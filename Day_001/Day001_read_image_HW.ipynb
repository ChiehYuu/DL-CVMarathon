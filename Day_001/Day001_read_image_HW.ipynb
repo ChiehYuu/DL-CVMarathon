{
  "nbformat": 4,
  "nbformat_minor": 0,
  "metadata": {
    "kernelspec": {
      "display_name": "Python 3",
      "language": "python",
      "name": "python3"
    },
    "language_info": {
      "codemirror_mode": {
        "name": "ipython",
        "version": 3
      },
      "file_extension": ".py",
      "mimetype": "text/x-python",
      "name": "python",
      "nbconvert_exporter": "python",
      "pygments_lexer": "ipython3",
      "version": "3.6.8"
    },
    "colab": {
      "name": "Day001_read_image_HW.ipynb",
      "provenance": [],
      "include_colab_link": true
    }
  },
  "cells": [
    {
      "cell_type": "markdown",
      "metadata": {
        "id": "view-in-github",
        "colab_type": "text"
      },
      "source": [
        "<a href=\"https://colab.research.google.com/github/ChiehYuu/DL-CVMarathon/blob/master/Day_001/Day001_read_image_HW.ipynb\" target=\"_parent\"><img src=\"https://colab.research.google.com/assets/colab-badge.svg\" alt=\"Open In Colab\"/></a>"
      ]
    },
    {
      "cell_type": "markdown",
      "metadata": {
        "id": "Q88VViWylajE"
      },
      "source": [
        "# 作業\n",
        "\n",
        "思考一下我們前面有提到圖片是矩陣，但維度可能會不一樣\n",
        "例如灰階圖只有兩個維度，RGB 彩圖則有 3 個維度\n",
        "\n",
        "假如今天我們把 RGB 3 個維度拆開來看會有甚麼不同的效果呢？"
      ]
    },
    {
      "cell_type": "markdown",
      "metadata": {
        "id": "snVC50LYlbLs"
      },
      "source": [
        "#Ans:變成RGB三色的灰階像素底圖，是RGB三色各自的二維矩陣的顯示"
      ]
    },
    {
      "cell_type": "code",
      "metadata": {
        "id": "mYcOnq76lajH"
      },
      "source": [
        ""
      ],
      "execution_count": null,
      "outputs": []
    }
  ]
}